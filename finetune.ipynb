{
 "cells": [
  {
   "cell_type": "code",
   "execution_count": 26,
   "metadata": {},
   "outputs": [
    {
     "name": "stdout",
     "output_type": "stream",
     "text": [
      "The autoreload extension is already loaded. To reload it, use:\n",
      "  %reload_ext autoreload\n",
      "Files already downloaded and verified\n",
      "Files already downloaded and verified\n"
     ]
    },
    {
     "data": {
      "text/plain": [
       "array([[ 17,  70, 123,  20,  12],\n",
       "       [173, 193, 203,   4,   0],\n",
       "       [154,  62, 122,  20,   4],\n",
       "       [239, 125, 170,  11,   8],\n",
       "       [179, 183, 156,   0,  10],\n",
       "       [154, 118,   2,  25,  13],\n",
       "       [135, 191,  31,  20,  24],\n",
       "       [ 19, 105,  29,   5,  28],\n",
       "       [152, 144,  67,   5,   6],\n",
       "       [ 39,  12, 102,   3,  22],\n",
       "       [172,  83, 166,   4,  11],\n",
       "       [186,  64, 166,   8,  15],\n",
       "       [127, 212, 121,  15,  10],\n",
       "       [ 26, 218, 233,  21,   6],\n",
       "       [213,  15,  86,  12,  15],\n",
       "       [243, 249, 148,  13,  28],\n",
       "       [ 51, 218, 232,  13,  25],\n",
       "       [ 74, 185,   5,   6,  14],\n",
       "       [ 53,  71, 159,   9,  18],\n",
       "       [118, 170,  70,  10,  23],\n",
       "       [ 91, 186, 125,   1,  13],\n",
       "       [180, 115, 248,   6,   0],\n",
       "       [138, 225,  12,  19,   3],\n",
       "       [232, 197,  76,   4,   3],\n",
       "       [ 77, 235,  72,   7,  23],\n",
       "       [104,  24, 223,  29,  27],\n",
       "       [194,  71, 116,  30,   9],\n",
       "       [ 19, 254,  37,   8,  21],\n",
       "       [194, 243,  64,  12,  23],\n",
       "       [ 41,  62,  51,  13,  31],\n",
       "       [ 75,  30, 126,   7,  10],\n",
       "       [ 40, 109, 115,  20,   2],\n",
       "       [145, 157, 244,  31,  11],\n",
       "       [ 96, 141, 187,  27,  24],\n",
       "       [126, 234,  30,   6,   5],\n",
       "       [151,  97,  19,  25,  13],\n",
       "       [ 34, 222, 238,  17,  13],\n",
       "       [155, 128, 167,   2,  28],\n",
       "       [ 74,   8,  32,  21,  17],\n",
       "       [218, 197,  36,  31,  16],\n",
       "       [175, 223, 155,  27,  18],\n",
       "       [171,  15, 249,  22,  16],\n",
       "       [ 91, 226, 189,  27,   8],\n",
       "       [ 94, 174,   8,  14,  26],\n",
       "       [113, 242, 124,  11,  12],\n",
       "       [ 63,  46,  37,   9,   1],\n",
       "       [ 12,  32, 135,  21,  11],\n",
       "       [219, 183, 234,  29,  28],\n",
       "       [ 21, 181, 104,  18,  18],\n",
       "       [ 32, 206,  68,   4,  31],\n",
       "       [171, 112, 212,  21,  20],\n",
       "       [121, 141,  88,  11,   4],\n",
       "       [ 99,  90, 171,  10,  31],\n",
       "       [195,  90,  98,   0,  24],\n",
       "       [245, 196, 214,  11,   5],\n",
       "       [ 95,  19, 161,  14,  10],\n",
       "       [  1, 159, 186,  30,   8],\n",
       "       [103, 177, 230,  19,  29],\n",
       "       [193, 145, 208,   1,  29],\n",
       "       [169,  92, 254,  14,  24],\n",
       "       [218,   4, 197,  24,   5],\n",
       "       [146, 202, 164,  24,   9],\n",
       "       [195,  64,   0,  28,   6],\n",
       "       [213, 182, 181,   1,  18],\n",
       "       [ 20, 140, 180,  24,  22],\n",
       "       [234, 184, 248,  19,   1],\n",
       "       [172, 209,  96,   0,   0],\n",
       "       [117, 171, 138,   3,   1],\n",
       "       [  8,   0, 118,  10,  21],\n",
       "       [ 71, 179,  65,  14,  13],\n",
       "       [194,  46, 107,  13,   9],\n",
       "       [ 13,  84, 189,  15,  14],\n",
       "       [185,  16,  57,   3,  21],\n",
       "       [155, 214, 137,   5,   0],\n",
       "       [252, 160,  10,   1,   6],\n",
       "       [105, 249, 124,  18,  11],\n",
       "       [ 85,  95, 124,  15,  13],\n",
       "       [254,  72, 249,  31,  16],\n",
       "       [ 50,  65, 241,   5,  25],\n",
       "       [  3, 107, 102,  24,   0],\n",
       "       [236, 206, 137,  18,  22],\n",
       "       [148, 253,  53,   6,  14],\n",
       "       [225, 138, 140,  15,  29],\n",
       "       [154,  26, 219,   2,  24],\n",
       "       [136, 206,  79,  28,   3],\n",
       "       [ 71, 230, 150,  21,   6],\n",
       "       [191, 181,  76,  20,  23],\n",
       "       [ 37,  87, 213,  25,   5],\n",
       "       [136,  36, 205,  31,  21],\n",
       "       [137, 244, 147,  12,  31],\n",
       "       [123,  92,  26,   4,   3],\n",
       "       [181,   5,  69,   6,  19],\n",
       "       [215, 213, 221,   1,  11],\n",
       "       [ 25, 216,  75,  25,   4],\n",
       "       [167, 189,  97,  20,  15],\n",
       "       [108, 244,  59,  10,  19],\n",
       "       [204,  86,  23,  29,  11],\n",
       "       [ 80,  21,  60,  12,  24],\n",
       "       [ 50, 131, 106,  17,   9],\n",
       "       [ 90, 102,   5,  17,  19]])"
      ]
     },
     "execution_count": 26,
     "metadata": {},
     "output_type": "execute_result"
    }
   ],
   "source": [
    "import numpy as np\n",
    "from utils import *\n",
    "import torch\n",
    "%load_ext autoreload\n",
    "%autoreload 2\n",
    "\n",
    "import torchvision\n",
    "import torch\n",
    "from torchvision import transforms\n",
    "\n",
    "train_dataset = torchvision.datasets.CIFAR10(\n",
    "    root= './data', train = True,\n",
    "    download =True, transform = None)\n",
    "test_dataset  = torchvision.datasets.CIFAR10(\n",
    "    root= './data', train = False,\n",
    "    download =True, transform = None)\n",
    "torch.manual_seed(1789)\n",
    "test_dataset, pirate_dataset = torch.utils.data.random_split(test_dataset, [0.5, 0.5])\n",
    "\n",
    "chenyaofo_transform = transforms.Compose([\n",
    "    transforms.ToTensor(),\n",
    "    transforms.Normalize((0.4914, 0.4822, 0.4465), (0.2023, 0.1994, 0.2010))\n",
    "])\n",
    "\n",
    "\n",
    "key = np.hstack([np.random.randint(0,256, size=(100,3)), np.random.randint(0,32, size=(100,2))])\n",
    "key"
   ]
  },
  {
   "cell_type": "code",
   "execution_count": 27,
   "metadata": {},
   "outputs": [
    {
     "data": {
      "text/plain": [
       "<matplotlib.image.AxesImage at 0x1deedf09190>"
      ]
     },
     "execution_count": 27,
     "metadata": {},
     "output_type": "execute_result"
    },
    {
     "data": {
      "image/png": "[encoded data removed]",
      "text/plain": [
       "<Figure size 640x480 with 1 Axes>"
      ]
     },
     "metadata": {},
     "output_type": "display_data"
    }
   ],
   "source": [
    "import matplotlib.pyplot as plt\n",
    "\n",
    "plt.imshow(key)"
   ]
  },
  {
   "cell_type": "code",
   "execution_count": 28,
   "metadata": {},
   "outputs": [
    {
     "name": "stderr",
     "output_type": "stream",
     "text": [
      "Using cache found in C:\\Users\\tanma/.cache\\torch\\hub\\chenyaofo_pytorch-cifar-models_master\n",
      "100%|██████████| 2/2 [02:56<00:00, 88.47s/it]\n"
     ]
    },
    {
     "data": {
      "text/plain": [
       "(0.9216294000442772, 0.9997786141244188, 0.006198804516271862)"
      ]
     },
     "execution_count": 28,
     "metadata": {},
     "output_type": "execute_result"
    }
   ],
   "source": [
    "mh = ModelHandler.download_model(\n",
    "    \"chenyaofo/pytorch-cifar-models\", 'cifar10_resnet20',\n",
    "    dataset = train_dataset,\n",
    "    pirate_set = pirate_dataset,\n",
    "    testset = test_dataset,\n",
    "    transform = chenyaofo_transform,\n",
    "    # device = 'cpu'\n",
    ")\n",
    "\n",
    "def watermarking_function(img):\n",
    "    return watermarked_key(img, key)\n",
    "\n",
    "finetune_model, finetune_performance = mh.finetune(watermarking_function, 2)\n",
    "finetune_performance"
   ]
  },
  {
   "cell_type": "code",
   "execution_count": 29,
   "metadata": {},
   "outputs": [
    {
     "data": {
      "text/plain": [
       "(0.9216294000442772, 0.9997786141244188, 0.006198804516271862)"
      ]
     },
     "execution_count": 29,
     "metadata": {},
     "output_type": "execute_result"
    }
   ],
   "source": [
    "fidelity, effectiveness, fpr = finetune_performance\n",
    "finetune_performance"
   ]
  },
  {
   "cell_type": "code",
   "execution_count": 31,
   "metadata": {},
   "outputs": [
    {
     "name": "stderr",
     "output_type": "stream",
     "text": [
      "100%|██████████| 1/1 [00:01<00:00,  1.10s/it]\n"
     ]
    },
    {
     "data": {
      "text/plain": [
       "(0.8109364622537082, 0.2406464467566969, 0.13283152534868276)"
      ]
     },
     "execution_count": 31,
     "metadata": {},
     "output_type": "execute_result"
    }
   ],
   "source": [
    "attacked_model, attacked_performance = mh.finetune_attack(finetune_model, watermarking_function, epoches=1)\n",
    "attacked_performance"
   ]
  },
  {
   "cell_type": "code",
   "execution_count": null,
   "metadata": {},
   "outputs": [],
   "source": []
  }
 ],
 "metadata": {
  "kernelspec": {
   "display_name": "Python 3",
   "language": "python",
   "name": "python3"
  },
  "language_info": {
   "codemirror_mode": {
    "name": "ipython",
    "version": 3
   },
   "file_extension": ".py",
   "mimetype": "text/x-python",
   "name": "python",
   "nbconvert_exporter": "python",
   "pygments_lexer": "ipython3",
   "version": "3.11.3"
  }
 },
 "nbformat": 4,
 "nbformat_minor": 2
}
